{
 "cells": [
  {
   "cell_type": "code",
   "execution_count": null,
   "id": "12fb8ef0-54e3-4359-a67d-70056a0abaff",
   "metadata": {},
   "outputs": [],
   "source": [
    "import time\n",
    "\n",
    "# The following script updates the counter every 15 seconds\n",
    "counter = 0\n",
    "\n",
    "while True:\n",
    "    print(f\"Counter: {counter}\")\n",
    "    counter += 1\n",
    "    time.sleep(15)  # Wait for 15 seconds before the next increment\n"
   ]
  }
 ],
 "metadata": {
  "kernelspec": {
   "display_name": "Python 3 (ipykernel)",
   "language": "python",
   "name": "python3"
  },
  "language_info": {
   "codemirror_mode": {
    "name": "ipython",
    "version": 3
   },
   "file_extension": ".py",
   "mimetype": "text/x-python",
   "name": "python",
   "nbconvert_exporter": "python",
   "pygments_lexer": "ipython3",
   "version": "3.10.16"
  }
 },
 "nbformat": 4,
 "nbformat_minor": 5
}
