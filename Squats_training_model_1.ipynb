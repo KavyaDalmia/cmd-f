{
 "cells": [
  {
   "cell_type": "code",
   "execution_count": 1,
   "id": "12fb8ef0-54e3-4359-a67d-70056a0abaff",
   "metadata": {},
   "outputs": [
    {
     "name": "stdout",
     "output_type": "stream",
     "text": [
      "# conda environments:\n",
      "#\n",
      "                         C:\\Users\\User\\anaconda3\n",
      "                         C:\\Users\\User\\anaconda3\\envs\\myenv\n",
      "                         C:\\Users\\User\\anaconda3\\envs\\phishDetect\n",
      "                         C:\\Users\\User\\anaconda3\\envs\\schedulii\n",
      "base                     C:\\Users\\User\\miniconda3\n",
      "cv_env                *  C:\\Users\\User\\miniconda3\\envs\\cv_env\n",
      "formfriend               C:\\Users\\User\\miniconda3\\envs\\formfriend\n",
      "\n"
     ]
    }
   ],
   "source": [
    "!conda info --envs\n"
   ]
  },
  {
   "cell_type": "code",
   "execution_count": 2,
   "id": "5fbbc819-8838-4159-a1cf-383b4e331421",
   "metadata": {},
   "outputs": [],
   "source": [
    "import cv2\n",
    "import mediapipe as mp\n",
    "import numpy as np\n"
   ]
  },
  {
   "cell_type": "code",
   "execution_count": 3,
   "id": "ca970a0a-c747-4745-99a3-738d56366ce8",
   "metadata": {},
   "outputs": [],
   "source": [
    "mp_drawing = mp.solutions.drawing_utils\n",
    "mp_pose = mp.solutions.pose #this is where we are importing the pre-built pose detection model from mediapipe"
   ]
  },
  {
   "cell_type": "code",
   "execution_count": null,
   "id": "837dff46-a4eb-499c-b2c5-ae0fc951ebaf",
   "metadata": {},
   "outputs": [],
   "source": []
  }
 ],
 "metadata": {
  "kernelspec": {
   "display_name": "Python 3 (ipykernel)",
   "language": "python",
   "name": "python3"
  },
  "language_info": {
   "codemirror_mode": {
    "name": "ipython",
    "version": 3
   },
   "file_extension": ".py",
   "mimetype": "text/x-python",
   "name": "python",
   "nbconvert_exporter": "python",
   "pygments_lexer": "ipython3",
   "version": "3.10.16"
  }
 },
 "nbformat": 4,
 "nbformat_minor": 5
}
