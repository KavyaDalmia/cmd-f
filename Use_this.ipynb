{
 "cells": [
  {
   "cell_type": "code",
   "execution_count": null,
   "id": "d856c89f-78fb-4c28-bf07-d5582b6233b0",
   "metadata": {},
   "outputs": [],
   "source": []
  }
 ],
 "metadata": {
  "kernelspec": {
   "display_name": "",
   "name": ""
  },
  "language_info": {
   "name": ""
  }
 },
 "nbformat": 4,
 "nbformat_minor": 5
}
